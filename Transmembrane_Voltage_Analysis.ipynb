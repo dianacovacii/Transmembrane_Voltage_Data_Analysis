{
  "nbformat": 4,
  "nbformat_minor": 0,
  "metadata": {
    "colab": {
      "provenance": []
    },
    "kernelspec": {
      "name": "python3",
      "display_name": "Python 3"
    },
    "language_info": {
      "name": "python"
    }
  },
  "cells": [
    {
      "cell_type": "markdown",
      "source": [
        "###Transmembrane Voltage Analysis Notebook###\n",
        "This notebook analyzes all sensor data files from within a specified folder and saves the results for later use.\n",
        "\n",
        "To Use:\n",
        "- Read the steps for a general idea of what happens in each cell and run each section one at a time.\n",
        "- Pay attention for green comments in the code as they might require your attention."
      ],
      "metadata": {
        "id": "e3mGPtExhNVE"
      }
    },
    {
      "cell_type": "markdown",
      "source": [
        "\n",
        "\n",
        "---\n",
        "\n"
      ],
      "metadata": {
        "id": "Q9Ar0iOmh8qt"
      }
    },
    {
      "cell_type": "markdown",
      "source": [
        "###Step 1: Install Necessary Libraries and Mount Google Drive###\n",
        "This cell installs all required Python libraries and mounts your Google Drive so the notebook can access your files.\n",
        "\n",
        "If asked for perimissions, sign in to your Google account and allow access to your Drive.\n",
        "\n",
        "You should see a message confirming the successful mounting of your Google Drive."
      ],
      "metadata": {
        "id": "dgGmO-PBBzKg"
      }
    },
    {
      "cell_type": "code",
      "execution_count": null,
      "metadata": {
        "colab": {
          "base_uri": "https://localhost:8080/"
        },
        "id": "-AzsKztHEG-z",
        "outputId": "1d1167b8-6016-479f-f67f-c5450fc479a3"
      },
      "outputs": [
        {
          "output_type": "stream",
          "name": "stdout",
          "text": [
            "\u001b[?25l   \u001b[90m━━━━━━━━━━━━━━━━━━━━━━━━━━━━━━━━━━━━━━━━\u001b[0m \u001b[32m0.0/53.0 kB\u001b[0m \u001b[31m?\u001b[0m eta \u001b[36m-:--:--\u001b[0m\r\u001b[2K   \u001b[90m━━━━━━━━━━━━━━━━━━━━━━━━━━━━━━━━━━━━━━━━\u001b[0m \u001b[32m53.0/53.0 kB\u001b[0m \u001b[31m2.7 MB/s\u001b[0m eta \u001b[36m0:00:00\u001b[0m\n",
            "\u001b[?25hMounted at /content/drive\n"
          ]
        }
      ],
      "source": [
        "!pip install -q pyabf matplotlib numpy pandas openpyxl\n",
        "from google.colab import drive\n",
        "import os\n",
        "import pandas as pd\n",
        "import pyabf\n",
        "import matplotlib.pyplot as plt\n",
        "import numpy as np\n",
        "import openpyxl\n",
        "from openpyxl.drawing.image import Image\n",
        "\n",
        "drive.mount('/content/drive')"
      ]
    },
    {
      "cell_type": "markdown",
      "source": [
        "###Step 2: Choose and verify the folder location###\n",
        "This cell checks if the correct folder path is provided and that such a path is present in your Google Drive.\n",
        "\n",
        "Change the folder path to whichever folder you would like to analyze and run the cell.\n",
        "\n",
        "You should see a message confirming that the folder you are looking for exists."
      ],
      "metadata": {
        "id": "L3vbA34kCTi8"
      }
    },
    {
      "cell_type": "code",
      "source": [
        "#Make sure to move the shared summer folder into 'My Drive'\n",
        "#You can drag and drop the folder from the 'Shared with me' to 'My Drive'\n",
        "shared_folder_path = '/content/drive/My Drive/Summer2025/ResearchData/TransmembraneVoltage/'\n",
        "#Specify the data folder you want analyzed.\n",
        "#Example: data_folder = 'Yellow(Mid)'\n",
        "data_folder = 'Yellow(Mid)'\n",
        "folder_path = os.path.join(shared_folder_path, data_folder)\n",
        "if os.path.exists(folder_path):\n",
        "    print(f\"The folder '{folder_path}' exists.\")\n",
        "else:\n",
        "    print(f\"The folder '{folder_path}' does not exist. Make sure Lab folder is moved to My Drive.\")"
      ],
      "metadata": {
        "colab": {
          "base_uri": "https://localhost:8080/"
        },
        "id": "_QpCi5mJFMx1",
        "outputId": "e0dd96d9-ff02-4652-d57d-248530d10ec2"
      },
      "execution_count": null,
      "outputs": [
        {
          "output_type": "stream",
          "name": "stdout",
          "text": [
            "The folder '/content/drive/My Drive/Summer2025/ResearchData/TransmembraneVoltage/Yellow(Mid)' exists.\n"
          ]
        }
      ]
    },
    {
      "cell_type": "markdown",
      "source": [
        "###Step 3: Locate Data Files###\n",
        "This cell scans the specified folder for sensor data ('.abf' files) and lists how many were found.\n",
        "\n",
        "You should see a message confirming the ammount of data files found within the folder."
      ],
      "metadata": {
        "id": "Ug18VRtpDDeL"
      }
    },
    {
      "cell_type": "code",
      "source": [
        "abf_files = [f for f in os.listdir(folder_path) if f.endswith('.abf')]\n",
        "print(f\"{len(abf_files)} data files found.\")"
      ],
      "metadata": {
        "colab": {
          "base_uri": "https://localhost:8080/"
        },
        "id": "ZR_yBvlSFYVW",
        "outputId": "326539b4-0300-4cb4-c01e-cb658ae063df"
      },
      "execution_count": null,
      "outputs": [
        {
          "output_type": "stream",
          "name": "stdout",
          "text": [
            "145 data files found.\n"
          ]
        }
      ]
    },
    {
      "cell_type": "markdown",
      "source": [
        "###Step 4: Analyze ABF Files and Generate Plots###\n",
        "This sections reads each file, extracts data, performs linear regression, and generates plots for each file.\n",
        "\n",
        "Wait for the cell to complete; it may take some time depending on the number of files in the folder.\n",
        "\n",
        "Expect to see a dataframe summarizing slopes, intercepts, and other statistics. Also expect to see a plot for each file in the folder.\n",
        "\n",
        "These will be saved to the shared folder in a clearer format in the next step. *When reviewing the graphs, pay attention to the scale on the y-axis.*"
      ],
      "metadata": {
        "id": "TosadMoGDaIm"
      }
    },
    {
      "cell_type": "code",
      "source": [
        "plot_names = []\n",
        "df = pd.DataFrame(columns=['File Name', 'Slope 1', 'Slope 2', 'Slope 3', 'y-int 1', 'y-int 2', 'y-int 3', 'x-int 1', 'x-int 2', 'x-int 3', 'avg x-int', 'std dev x-int'])\n",
        "for abf_file in abf_files:\n",
        "  try:\n",
        "    abf_path = os.path.join(folder_path, abf_file)\n",
        "    abf = pyabf.ABF(abf_path)\n",
        "    cache = []\n",
        "    plt.figure(figsize=(10, 6))\n",
        "    for sweep in abf.sweepList:\n",
        "      abf.setSweep(sweep)\n",
        "      epochs = abf.sweepEpochs\n",
        "      start = epochs.p1s[2]\n",
        "      end = epochs.p1s[3]\n",
        "      x = abf.sweepC[start:end]\n",
        "      y = abf.sweepY[start:end]\n",
        "      m, b = np.polyfit(x, y, 1)\n",
        "      cache.append(m)\n",
        "      cache.append(b)\n",
        "      cache.append(-b/m)\n",
        "      fit_line = m*x + b\n",
        "      plt.plot(x, y, 'o', alpha=0.5, markersize=2)\n",
        "      plt.plot(x, fit_line, color='black', alpha=0.7)\n",
        "    plt.xlabel('Millivolts (mV)')\n",
        "    plt.ylabel('Picoamps (pA)')\n",
        "    plt.title(abf_file[:-4])\n",
        "    plt.grid(True)\n",
        "    plt.gcf().patch.set_edgecolor('black')\n",
        "    plt.gcf().patch.set_linewidth(1)\n",
        "    plt.tight_layout()\n",
        "    plot_names.append(abf_file[:-4]+'.png')\n",
        "    plt.savefig(abf_file[:-4]+'.png')\n",
        "    plt.close()\n",
        "    val = [abf_file, cache[0], cache[3], cache[6], cache[1], cache[4], cache[7], cache[2], cache[5], cache[8], np.mean(cache[2:12:3]), np.std(cache[2:12:3])]\n",
        "    df.loc[len(df)] = val\n",
        "  except:\n",
        "    print(f\"Error processing {abf_file}\")\n",
        "    df.loc[len(df)] = [abf_file, 'NaN', 'NaN', 'NaN', 'NaN', 'NaN', 'NaN', 'NaN', 'NaN', 'NaN', 'NaN', 'NaN']\n",
        "#print(df)"
      ],
      "metadata": {
        "id": "k0cA-Kn6F1_z"
      },
      "execution_count": null,
      "outputs": []
    },
    {
      "cell_type": "markdown",
      "source": [
        "###Step 5: Save Results to an Excel File###\n",
        "This cell saves numerical and graphical results into an Excel file with two sheets.\n",
        "\n",
        "Expect to see a spreadsheet in the same lab folder as the data with the saved results.\n",
        "\n",
        "*NOTE: The available results spreadsheet will reflect the latest analysis of that specific folder. When new data is added into a folder, you should run this program again to replace the old results.*"
      ],
      "metadata": {
        "id": "RStQWne7ERW0"
      }
    },
    {
      "cell_type": "code",
      "source": [
        "file_name = folder_path+'/Colab_Notebook_Results.xlsx'\n",
        "df.to_excel(file_name, index=False)\n",
        "\n",
        "wb = openpyxl.load_workbook(file_name)\n",
        "sheet = wb['Sheet1']\n",
        "sheet.title = 'Numerical Results'\n",
        "new_sheet = wb.create_sheet(title='Graphical Results')\n",
        "wb.active = wb.index(new_sheet)\n",
        "ws = wb.active\n",
        "loc = 1\n",
        "for plot_name in plot_names:\n",
        "  img = Image(plot_name)\n",
        "  new_sheet[f\"A{loc}\"] = plot_name[:-4]\n",
        "  new_sheet.add_image(img, f\"A{loc+1}\")\n",
        "  loc += 31\n",
        "wb.save(file_name)"
      ],
      "metadata": {
        "id": "QvCKTigzFqc7"
      },
      "execution_count": null,
      "outputs": []
    }
  ]
}